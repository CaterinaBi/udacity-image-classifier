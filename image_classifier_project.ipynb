{
 "cells": [
  {
   "cell_type": "markdown",
   "metadata": {},
   "source": [
    "# Developing an AI application\n",
    "\n",
    "Going forward, AI algorithms will be incorporated into more and more everyday applications. For example, you might want to include an image classifier in a smart phone app. To do this, you'd use a deep learning model trained on hundreds of thousands of images as part of the overall application architecture. A large part of software development in the future will be using these types of models as common parts of applications. \n",
    "\n",
    "In this project, you'll train an image classifier to recognize different species of flowers. You can imagine using something like this in a phone app that tells you the name of the flower your camera is looking at. In practice you'd train this classifier, then export it for use in your application. We'll be using [this dataset](http://www.robots.ox.ac.uk/~vgg/data/flowers/102/index.html) of 102 flower categories, you can see a few examples below. \n",
    "\n",
    "<img src='assets/Flowers.png' width=500px>\n",
    "\n",
    "The project is broken down into multiple steps:\n",
    "\n",
    "* Load and preprocess the image dataset\n",
    "* Train the image classifier on your dataset\n",
    "* Use the trained classifier to predict image content\n",
    "\n",
    "We'll lead you through each part which you'll implement in Python.\n",
    "\n",
    "When you've completed this project, you'll have an application that can be trained on any set of labeled images. Here your network will be learning about flowers and end up as a command line application. But, what you do with your new skills depends on your imagination and effort in building a dataset. For example, imagine an app where you take a picture of a car, it tells you what the make and model is, then looks up information about it. Go build your own dataset and make something new.\n",
    "\n",
    "First up is importing the packages you'll need. It's good practice to keep all the imports at the beginning of your code. As you work through this notebook and find you need to import a package, make sure to add the import up here."
   ]
  },
  {
   "cell_type": "code",
   "execution_count": 2,
   "metadata": {},
   "outputs": [],
   "source": [
    "# Imports here\n",
    "import numpy as np\n",
    "\n",
    "import matplotlib.pyplot as plt\n",
    "\n",
    "import os, random\n",
    "\n",
    "import json as js\n",
    "\n",
    "import torch\n",
    "from torch import nn\n",
    "from torch import optim\n",
    "import torch.nn.functional as F\n",
    "from torch.autograd import Variable\n",
    "\n",
    "import torchvision\n",
    "from torchvision import datasets\n",
    "from torchvision import transforms as ts\n",
    "from torchvision import models\n",
    "\n",
    "from collections import OrderedDict\n",
    "\n",
    "from PIL import Image\n",
    "\n",
    "import time"
   ]
  },
  {
   "cell_type": "markdown",
   "metadata": {},
   "source": [
    "## Load the data\n",
    "\n",
    "Here you'll use `torchvision` to load the data ([documentation](http://pytorch.org/docs/0.3.0/torchvision/index.html)). The data should be included alongside this notebook, otherwise you can [download it here](https://s3.amazonaws.com/content.udacity-data.com/nd089/flower_data.tar.gz). The dataset is split into three parts, training, validation, and testing. For the training, you'll want to apply transformations such as random scaling, cropping, and flipping. This will help the network generalize leading to better performance. You'll also need to make sure the input data is resized to 224x224 pixels as required by the pre-trained networks.\n",
    "\n",
    "The validation and testing sets are used to measure the model's performance on data it hasn't seen yet. For this you don't want any scaling or rotation transformations, but you'll need to resize then crop the images to the appropriate size.\n",
    "\n",
    "The pre-trained networks you'll use were trained on the ImageNet dataset where each color channel was normalized separately. For all three sets you'll need to normalize the means and standard deviations of the images to what the network expects. For the means, it's `[0.485, 0.456, 0.406]` and for the standard deviations `[0.229, 0.224, 0.225]`, calculated from the ImageNet images.  These values will shift each color channel to be centered at 0 and range from -1 to 1.\n",
    " "
   ]
  },
  {
   "cell_type": "code",
   "execution_count": 11,
   "metadata": {},
   "outputs": [],
   "source": [
    "data_dir = 'flower_data'\n",
    "train_dir = data_dir + '/train'\n",
    "valid_dir = data_dir + '/valid'\n",
    "test_dir = data_dir + '/test'"
   ]
  },
  {
   "cell_type": "code",
   "execution_count": 14,
   "metadata": {},
   "outputs": [
    {
     "ename": "FileNotFoundError",
     "evalue": "[Errno 2] No such file or directory: 'flower_data/train'",
     "output_type": "error",
     "traceback": [
      "\u001b[0;31m---------------------------------------------------------------------------\u001b[0m",
      "\u001b[0;31mFileNotFoundError\u001b[0m                         Traceback (most recent call last)",
      "\u001b[1;32m/Users/caterinabonan/Desktop/Udacity_ImageClassifier/udacity-image-classifier/image_classifier_project.ipynb Cell 5'\u001b[0m in \u001b[0;36m<cell line: 18>\u001b[0;34m()\u001b[0m\n\u001b[1;32m     <a href='vscode-notebook-cell:/Users/caterinabonan/Desktop/Udacity_ImageClassifier/udacity-image-classifier/image_classifier_project.ipynb#ch0000004?line=10'>11</a>\u001b[0m test_transforms \u001b[39m=\u001b[39m ts\u001b[39m.\u001b[39mCompose([ts\u001b[39m.\u001b[39mResize(\u001b[39m256\u001b[39m),\n\u001b[1;32m     <a href='vscode-notebook-cell:/Users/caterinabonan/Desktop/Udacity_ImageClassifier/udacity-image-classifier/image_classifier_project.ipynb#ch0000004?line=11'>12</a>\u001b[0m                                       ts\u001b[39m.\u001b[39mCenterCrop(\u001b[39m224\u001b[39m),\n\u001b[1;32m     <a href='vscode-notebook-cell:/Users/caterinabonan/Desktop/Udacity_ImageClassifier/udacity-image-classifier/image_classifier_project.ipynb#ch0000004?line=12'>13</a>\u001b[0m                                       ts\u001b[39m.\u001b[39mToTensor(),\n\u001b[1;32m     <a href='vscode-notebook-cell:/Users/caterinabonan/Desktop/Udacity_ImageClassifier/udacity-image-classifier/image_classifier_project.ipynb#ch0000004?line=13'>14</a>\u001b[0m                                       ts\u001b[39m.\u001b[39mNormalize([\u001b[39m0.485\u001b[39m, \u001b[39m0.456\u001b[39m, \u001b[39m0.406\u001b[39m], \n\u001b[1;32m     <a href='vscode-notebook-cell:/Users/caterinabonan/Desktop/Udacity_ImageClassifier/udacity-image-classifier/image_classifier_project.ipynb#ch0000004?line=14'>15</a>\u001b[0m                                                            [\u001b[39m0.229\u001b[39m, \u001b[39m0.224\u001b[39m, \u001b[39m0.225\u001b[39m])]) \n\u001b[1;32m     <a href='vscode-notebook-cell:/Users/caterinabonan/Desktop/Udacity_ImageClassifier/udacity-image-classifier/image_classifier_project.ipynb#ch0000004?line=16'>17</a>\u001b[0m \u001b[39m# TODO: Load the datasets with ImageFolder\u001b[39;00m\n\u001b[0;32m---> <a href='vscode-notebook-cell:/Users/caterinabonan/Desktop/Udacity_ImageClassifier/udacity-image-classifier/image_classifier_project.ipynb#ch0000004?line=17'>18</a>\u001b[0m train_data \u001b[39m=\u001b[39m datasets\u001b[39m.\u001b[39;49mImageFolder(data_dir \u001b[39m+\u001b[39;49m \u001b[39m'\u001b[39;49m\u001b[39m/train\u001b[39;49m\u001b[39m'\u001b[39;49m, transform\u001b[39m=\u001b[39;49mtrain_transforms)\n\u001b[1;32m     <a href='vscode-notebook-cell:/Users/caterinabonan/Desktop/Udacity_ImageClassifier/udacity-image-classifier/image_classifier_project.ipynb#ch0000004?line=18'>19</a>\u001b[0m test_data \u001b[39m=\u001b[39m datasets\u001b[39m.\u001b[39mImageFolder(data_dir \u001b[39m+\u001b[39m \u001b[39m'\u001b[39m\u001b[39m/test\u001b[39m\u001b[39m'\u001b[39m, transform\u001b[39m=\u001b[39mtest_transforms)\n\u001b[1;32m     <a href='vscode-notebook-cell:/Users/caterinabonan/Desktop/Udacity_ImageClassifier/udacity-image-classifier/image_classifier_project.ipynb#ch0000004?line=19'>20</a>\u001b[0m valid_data  \u001b[39m=\u001b[39m datasets\u001b[39m.\u001b[39mImageFolder(data_dir \u001b[39m+\u001b[39m \u001b[39m'\u001b[39m\u001b[39m/valid_\u001b[39m\u001b[39m'\u001b[39m, transform\u001b[39m=\u001b[39mtest_transforms)\n",
      "File \u001b[0;32m~/miniforge3/envs/udacity_env/lib/python3.10/site-packages/torchvision/datasets/folder.py:310\u001b[0m, in \u001b[0;36mImageFolder.__init__\u001b[0;34m(self, root, transform, target_transform, loader, is_valid_file)\u001b[0m\n\u001b[1;32m    <a href='file:///Users/caterinabonan/miniforge3/envs/udacity_env/lib/python3.10/site-packages/torchvision/datasets/folder.py?line=301'>302</a>\u001b[0m \u001b[39mdef\u001b[39;00m \u001b[39m__init__\u001b[39m(\n\u001b[1;32m    <a href='file:///Users/caterinabonan/miniforge3/envs/udacity_env/lib/python3.10/site-packages/torchvision/datasets/folder.py?line=302'>303</a>\u001b[0m     \u001b[39mself\u001b[39m,\n\u001b[1;32m    <a href='file:///Users/caterinabonan/miniforge3/envs/udacity_env/lib/python3.10/site-packages/torchvision/datasets/folder.py?line=303'>304</a>\u001b[0m     root: \u001b[39mstr\u001b[39m,\n\u001b[0;32m   (...)\u001b[0m\n\u001b[1;32m    <a href='file:///Users/caterinabonan/miniforge3/envs/udacity_env/lib/python3.10/site-packages/torchvision/datasets/folder.py?line=307'>308</a>\u001b[0m     is_valid_file: Optional[Callable[[\u001b[39mstr\u001b[39m], \u001b[39mbool\u001b[39m]] \u001b[39m=\u001b[39m \u001b[39mNone\u001b[39;00m,\n\u001b[1;32m    <a href='file:///Users/caterinabonan/miniforge3/envs/udacity_env/lib/python3.10/site-packages/torchvision/datasets/folder.py?line=308'>309</a>\u001b[0m ):\n\u001b[0;32m--> <a href='file:///Users/caterinabonan/miniforge3/envs/udacity_env/lib/python3.10/site-packages/torchvision/datasets/folder.py?line=309'>310</a>\u001b[0m     \u001b[39msuper\u001b[39;49m()\u001b[39m.\u001b[39;49m\u001b[39m__init__\u001b[39;49m(\n\u001b[1;32m    <a href='file:///Users/caterinabonan/miniforge3/envs/udacity_env/lib/python3.10/site-packages/torchvision/datasets/folder.py?line=310'>311</a>\u001b[0m         root,\n\u001b[1;32m    <a href='file:///Users/caterinabonan/miniforge3/envs/udacity_env/lib/python3.10/site-packages/torchvision/datasets/folder.py?line=311'>312</a>\u001b[0m         loader,\n\u001b[1;32m    <a href='file:///Users/caterinabonan/miniforge3/envs/udacity_env/lib/python3.10/site-packages/torchvision/datasets/folder.py?line=312'>313</a>\u001b[0m         IMG_EXTENSIONS \u001b[39mif\u001b[39;49;00m is_valid_file \u001b[39mis\u001b[39;49;00m \u001b[39mNone\u001b[39;49;00m \u001b[39melse\u001b[39;49;00m \u001b[39mNone\u001b[39;49;00m,\n\u001b[1;32m    <a href='file:///Users/caterinabonan/miniforge3/envs/udacity_env/lib/python3.10/site-packages/torchvision/datasets/folder.py?line=313'>314</a>\u001b[0m         transform\u001b[39m=\u001b[39;49mtransform,\n\u001b[1;32m    <a href='file:///Users/caterinabonan/miniforge3/envs/udacity_env/lib/python3.10/site-packages/torchvision/datasets/folder.py?line=314'>315</a>\u001b[0m         target_transform\u001b[39m=\u001b[39;49mtarget_transform,\n\u001b[1;32m    <a href='file:///Users/caterinabonan/miniforge3/envs/udacity_env/lib/python3.10/site-packages/torchvision/datasets/folder.py?line=315'>316</a>\u001b[0m         is_valid_file\u001b[39m=\u001b[39;49mis_valid_file,\n\u001b[1;32m    <a href='file:///Users/caterinabonan/miniforge3/envs/udacity_env/lib/python3.10/site-packages/torchvision/datasets/folder.py?line=316'>317</a>\u001b[0m     )\n\u001b[1;32m    <a href='file:///Users/caterinabonan/miniforge3/envs/udacity_env/lib/python3.10/site-packages/torchvision/datasets/folder.py?line=317'>318</a>\u001b[0m     \u001b[39mself\u001b[39m\u001b[39m.\u001b[39mimgs \u001b[39m=\u001b[39m \u001b[39mself\u001b[39m\u001b[39m.\u001b[39msamples\n",
      "File \u001b[0;32m~/miniforge3/envs/udacity_env/lib/python3.10/site-packages/torchvision/datasets/folder.py:145\u001b[0m, in \u001b[0;36mDatasetFolder.__init__\u001b[0;34m(self, root, loader, extensions, transform, target_transform, is_valid_file)\u001b[0m\n\u001b[1;32m    <a href='file:///Users/caterinabonan/miniforge3/envs/udacity_env/lib/python3.10/site-packages/torchvision/datasets/folder.py?line=134'>135</a>\u001b[0m \u001b[39mdef\u001b[39;00m \u001b[39m__init__\u001b[39m(\n\u001b[1;32m    <a href='file:///Users/caterinabonan/miniforge3/envs/udacity_env/lib/python3.10/site-packages/torchvision/datasets/folder.py?line=135'>136</a>\u001b[0m     \u001b[39mself\u001b[39m,\n\u001b[1;32m    <a href='file:///Users/caterinabonan/miniforge3/envs/udacity_env/lib/python3.10/site-packages/torchvision/datasets/folder.py?line=136'>137</a>\u001b[0m     root: \u001b[39mstr\u001b[39m,\n\u001b[0;32m   (...)\u001b[0m\n\u001b[1;32m    <a href='file:///Users/caterinabonan/miniforge3/envs/udacity_env/lib/python3.10/site-packages/torchvision/datasets/folder.py?line=141'>142</a>\u001b[0m     is_valid_file: Optional[Callable[[\u001b[39mstr\u001b[39m], \u001b[39mbool\u001b[39m]] \u001b[39m=\u001b[39m \u001b[39mNone\u001b[39;00m,\n\u001b[1;32m    <a href='file:///Users/caterinabonan/miniforge3/envs/udacity_env/lib/python3.10/site-packages/torchvision/datasets/folder.py?line=142'>143</a>\u001b[0m ) \u001b[39m-\u001b[39m\u001b[39m>\u001b[39m \u001b[39mNone\u001b[39;00m:\n\u001b[1;32m    <a href='file:///Users/caterinabonan/miniforge3/envs/udacity_env/lib/python3.10/site-packages/torchvision/datasets/folder.py?line=143'>144</a>\u001b[0m     \u001b[39msuper\u001b[39m()\u001b[39m.\u001b[39m\u001b[39m__init__\u001b[39m(root, transform\u001b[39m=\u001b[39mtransform, target_transform\u001b[39m=\u001b[39mtarget_transform)\n\u001b[0;32m--> <a href='file:///Users/caterinabonan/miniforge3/envs/udacity_env/lib/python3.10/site-packages/torchvision/datasets/folder.py?line=144'>145</a>\u001b[0m     classes, class_to_idx \u001b[39m=\u001b[39m \u001b[39mself\u001b[39;49m\u001b[39m.\u001b[39;49mfind_classes(\u001b[39mself\u001b[39;49m\u001b[39m.\u001b[39;49mroot)\n\u001b[1;32m    <a href='file:///Users/caterinabonan/miniforge3/envs/udacity_env/lib/python3.10/site-packages/torchvision/datasets/folder.py?line=145'>146</a>\u001b[0m     samples \u001b[39m=\u001b[39m \u001b[39mself\u001b[39m\u001b[39m.\u001b[39mmake_dataset(\u001b[39mself\u001b[39m\u001b[39m.\u001b[39mroot, class_to_idx, extensions, is_valid_file)\n\u001b[1;32m    <a href='file:///Users/caterinabonan/miniforge3/envs/udacity_env/lib/python3.10/site-packages/torchvision/datasets/folder.py?line=147'>148</a>\u001b[0m     \u001b[39mself\u001b[39m\u001b[39m.\u001b[39mloader \u001b[39m=\u001b[39m loader\n",
      "File \u001b[0;32m~/miniforge3/envs/udacity_env/lib/python3.10/site-packages/torchvision/datasets/folder.py:219\u001b[0m, in \u001b[0;36mDatasetFolder.find_classes\u001b[0;34m(self, directory)\u001b[0m\n\u001b[1;32m    <a href='file:///Users/caterinabonan/miniforge3/envs/udacity_env/lib/python3.10/site-packages/torchvision/datasets/folder.py?line=191'>192</a>\u001b[0m \u001b[39mdef\u001b[39;00m \u001b[39mfind_classes\u001b[39m(\u001b[39mself\u001b[39m, directory: \u001b[39mstr\u001b[39m) \u001b[39m-\u001b[39m\u001b[39m>\u001b[39m Tuple[List[\u001b[39mstr\u001b[39m], Dict[\u001b[39mstr\u001b[39m, \u001b[39mint\u001b[39m]]:\n\u001b[1;32m    <a href='file:///Users/caterinabonan/miniforge3/envs/udacity_env/lib/python3.10/site-packages/torchvision/datasets/folder.py?line=192'>193</a>\u001b[0m     \u001b[39m\"\"\"Find the class folders in a dataset structured as follows::\u001b[39;00m\n\u001b[1;32m    <a href='file:///Users/caterinabonan/miniforge3/envs/udacity_env/lib/python3.10/site-packages/torchvision/datasets/folder.py?line=193'>194</a>\u001b[0m \n\u001b[1;32m    <a href='file:///Users/caterinabonan/miniforge3/envs/udacity_env/lib/python3.10/site-packages/torchvision/datasets/folder.py?line=194'>195</a>\u001b[0m \u001b[39m        directory/\u001b[39;00m\n\u001b[0;32m   (...)\u001b[0m\n\u001b[1;32m    <a href='file:///Users/caterinabonan/miniforge3/envs/udacity_env/lib/python3.10/site-packages/torchvision/datasets/folder.py?line=216'>217</a>\u001b[0m \u001b[39m        (Tuple[List[str], Dict[str, int]]): List of all classes and dictionary mapping each class to an index.\u001b[39;00m\n\u001b[1;32m    <a href='file:///Users/caterinabonan/miniforge3/envs/udacity_env/lib/python3.10/site-packages/torchvision/datasets/folder.py?line=217'>218</a>\u001b[0m \u001b[39m    \"\"\"\u001b[39;00m\n\u001b[0;32m--> <a href='file:///Users/caterinabonan/miniforge3/envs/udacity_env/lib/python3.10/site-packages/torchvision/datasets/folder.py?line=218'>219</a>\u001b[0m     \u001b[39mreturn\u001b[39;00m find_classes(directory)\n",
      "File \u001b[0;32m~/miniforge3/envs/udacity_env/lib/python3.10/site-packages/torchvision/datasets/folder.py:41\u001b[0m, in \u001b[0;36mfind_classes\u001b[0;34m(directory)\u001b[0m\n\u001b[1;32m     <a href='file:///Users/caterinabonan/miniforge3/envs/udacity_env/lib/python3.10/site-packages/torchvision/datasets/folder.py?line=35'>36</a>\u001b[0m \u001b[39mdef\u001b[39;00m \u001b[39mfind_classes\u001b[39m(directory: \u001b[39mstr\u001b[39m) \u001b[39m-\u001b[39m\u001b[39m>\u001b[39m Tuple[List[\u001b[39mstr\u001b[39m], Dict[\u001b[39mstr\u001b[39m, \u001b[39mint\u001b[39m]]:\n\u001b[1;32m     <a href='file:///Users/caterinabonan/miniforge3/envs/udacity_env/lib/python3.10/site-packages/torchvision/datasets/folder.py?line=36'>37</a>\u001b[0m     \u001b[39m\"\"\"Finds the class folders in a dataset.\u001b[39;00m\n\u001b[1;32m     <a href='file:///Users/caterinabonan/miniforge3/envs/udacity_env/lib/python3.10/site-packages/torchvision/datasets/folder.py?line=37'>38</a>\u001b[0m \n\u001b[1;32m     <a href='file:///Users/caterinabonan/miniforge3/envs/udacity_env/lib/python3.10/site-packages/torchvision/datasets/folder.py?line=38'>39</a>\u001b[0m \u001b[39m    See :class:`DatasetFolder` for details.\u001b[39;00m\n\u001b[1;32m     <a href='file:///Users/caterinabonan/miniforge3/envs/udacity_env/lib/python3.10/site-packages/torchvision/datasets/folder.py?line=39'>40</a>\u001b[0m \u001b[39m    \"\"\"\u001b[39;00m\n\u001b[0;32m---> <a href='file:///Users/caterinabonan/miniforge3/envs/udacity_env/lib/python3.10/site-packages/torchvision/datasets/folder.py?line=40'>41</a>\u001b[0m     classes \u001b[39m=\u001b[39m \u001b[39msorted\u001b[39m(entry\u001b[39m.\u001b[39mname \u001b[39mfor\u001b[39;00m entry \u001b[39min\u001b[39;00m os\u001b[39m.\u001b[39;49mscandir(directory) \u001b[39mif\u001b[39;00m entry\u001b[39m.\u001b[39mis_dir())\n\u001b[1;32m     <a href='file:///Users/caterinabonan/miniforge3/envs/udacity_env/lib/python3.10/site-packages/torchvision/datasets/folder.py?line=41'>42</a>\u001b[0m     \u001b[39mif\u001b[39;00m \u001b[39mnot\u001b[39;00m classes:\n\u001b[1;32m     <a href='file:///Users/caterinabonan/miniforge3/envs/udacity_env/lib/python3.10/site-packages/torchvision/datasets/folder.py?line=42'>43</a>\u001b[0m         \u001b[39mraise\u001b[39;00m \u001b[39mFileNotFoundError\u001b[39;00m(\u001b[39mf\u001b[39m\u001b[39m\"\u001b[39m\u001b[39mCouldn\u001b[39m\u001b[39m'\u001b[39m\u001b[39mt find any class folder in \u001b[39m\u001b[39m{\u001b[39;00mdirectory\u001b[39m}\u001b[39;00m\u001b[39m.\u001b[39m\u001b[39m\"\u001b[39m)\n",
      "\u001b[0;31mFileNotFoundError\u001b[0m: [Errno 2] No such file or directory: 'flower_data/train'"
     ]
    }
   ],
   "source": [
    "# TODO: Define your transforms for the training, validation, and testing sets\n",
    "# Training transform includes random rotation and flip to build a more robust model\n",
    "train_transforms = ts.Compose([ts.RandomRotation(30),\n",
    "                                       ts.RandomResizedCrop(224),\n",
    "                                       ts.RandomHorizontalFlip(),\n",
    "                                       ts.ToTensor(),\n",
    "                                       ts.Normalize([0.485, 0.456, 0.406], \n",
    "                                                            [0.229, 0.224, 0.225])])\n",
    "\n",
    "# The validation set will use the same transform as the test set\n",
    "test_transforms = ts.Compose([ts.Resize(256),\n",
    "                                      ts.CenterCrop(224),\n",
    "                                      ts.ToTensor(),\n",
    "                                      ts.Normalize([0.485, 0.456, 0.406], \n",
    "                                                           [0.229, 0.224, 0.225])]) \n",
    "\n",
    "# TODO: Load the datasets with ImageFolder\n",
    "train_data = datasets.ImageFolder(data_dir + '/train', transform=train_transforms)\n",
    "test_data = datasets.ImageFolder(data_dir + '/test', transform=test_transforms)\n",
    "valid_data  = datasets.ImageFolder(data_dir + '/valid_', transform=test_transforms)\n",
    "\n",
    "# Defines image_datasets list\n",
    "image_datasets = [train_data, test_data, valid_data]\n",
    "\n",
    "# TODO: Using the image datasets and the trainforms, define the dataloaders\n",
    "# The trainloader has shuffle=True so that the order of the images does not affect the model\n",
    "trainloader = torch.utils.data.DataLoader(train_data, batch_size=64, shuffle=True)\n",
    "testloader = torch.utils.data.DataLoader(test_data, batch_size=32)\n",
    "validloader = torch.utils.data.DataLoader(valid_data, batch_size=32)\n",
    "\n",
    "# Defines data_loaders list\n",
    "data_loaders = [trainloader, testloader, validloader]"
   ]
  },
  {
   "cell_type": "markdown",
   "metadata": {},
   "source": [
    "### Label mapping\n",
    "\n",
    "You'll also need to load in a mapping from category label to category name. You can find this in the file `cat_to_name.json`. It's a JSON object which you can read in with the [`json` module](https://docs.python.org/2/library/json.html). This will give you a dictionary mapping the integer encoded categories to the actual names of the flowers."
   ]
  },
  {
   "cell_type": "code",
   "execution_count": 1,
   "metadata": {},
   "outputs": [
    {
     "ename": "NameError",
     "evalue": "name 'js' is not defined",
     "output_type": "error",
     "traceback": [
      "\u001b[0;31m---------------------------------------------------------------------------\u001b[0m",
      "\u001b[0;31mNameError\u001b[0m                                 Traceback (most recent call last)",
      "\u001b[1;32m/Users/caterinabonan/Desktop/Udacity_ImageClassifier/udacity-image-classifier/image_classifier_project.ipynb Cell 7'\u001b[0m in \u001b[0;36m<cell line: 1>\u001b[0;34m()\u001b[0m\n\u001b[1;32m      <a href='vscode-notebook-cell:/Users/caterinabonan/Desktop/Udacity_ImageClassifier/udacity-image-classifier/image_classifier_project.ipynb#ch0000006?line=0'>1</a>\u001b[0m \u001b[39mwith\u001b[39;00m \u001b[39mopen\u001b[39m(\u001b[39m'\u001b[39m\u001b[39mcategory_label_to_name.json\u001b[39m\u001b[39m'\u001b[39m, \u001b[39m'\u001b[39m\u001b[39mr\u001b[39m\u001b[39m'\u001b[39m) \u001b[39mas\u001b[39;00m f:\n\u001b[0;32m----> <a href='vscode-notebook-cell:/Users/caterinabonan/Desktop/Udacity_ImageClassifier/udacity-image-classifier/image_classifier_project.ipynb#ch0000006?line=1'>2</a>\u001b[0m     category_label_to_name \u001b[39m=\u001b[39m js\u001b[39m.\u001b[39mload(f)\n\u001b[1;32m      <a href='vscode-notebook-cell:/Users/caterinabonan/Desktop/Udacity_ImageClassifier/udacity-image-classifier/image_classifier_project.ipynb#ch0000006?line=3'>4</a>\u001b[0m \u001b[39mprint\u001b[39m(category_label_to_name)\n\u001b[1;32m      <a href='vscode-notebook-cell:/Users/caterinabonan/Desktop/Udacity_ImageClassifier/udacity-image-classifier/image_classifier_project.ipynb#ch0000006?line=4'>5</a>\u001b[0m \u001b[39mprint\u001b[39m(\u001b[39m\"\u001b[39m\u001b[39m\\n\u001b[39;00m\u001b[39m Length:\u001b[39m\u001b[39m\"\u001b[39m, \u001b[39mlen\u001b[39m(category_label_to_name))\n",
      "\u001b[0;31mNameError\u001b[0m: name 'js' is not defined"
     ]
    }
   ],
   "source": [
    "with open('category_label_to_name.json', 'r') as f:\n",
    "    category_label_to_name = js.load(f)\n",
    "\n",
    "print(category_label_to_name)\n",
    "print(\"\\n Length:\", len(category_label_to_name))"
   ]
  },
  {
   "cell_type": "markdown",
   "metadata": {},
   "source": [
    "# Building and training the classifier\n",
    "\n",
    "Now that the data is ready, it's time to build and train the classifier. As usual, you should use one of the pretrained models from `torchvision.models` to get the image features. Build and train a new feed-forward classifier using those features.\n",
    "\n",
    "We're going to leave this part up to you. Refer to [the rubric](https://review.udacity.com/#!/rubrics/1663/view) for guidance on successfully completing this section. Things you'll need to do:\n",
    "\n",
    "* Load a [pre-trained network](http://pytorch.org/docs/master/torchvision/models.html) (If you need a starting point, the VGG networks work great and are straightforward to use)\n",
    "* Define a new, untrained feed-forward network as a classifier, using ReLU activations and dropout\n",
    "* Train the classifier layers using backpropagation using the pre-trained network to get the features\n",
    "* Track the loss and accuracy on the validation set to determine the best hyperparameters\n",
    "\n",
    "We've left a cell open for you below, but use as many as you need. Our advice is to break the problem up into smaller parts you can run separately. Check that each part is doing what you expect, then move on to the next. You'll likely find that as you work through each part, you'll need to go back and modify your previous code. This is totally normal!\n",
    "\n",
    "When training make sure you're updating only the weights of the feed-forward network. You should be able to get the validation accuracy above 70% if you build everything right. Make sure to try different hyperparameters (learning rate, units in the classifier, epochs, etc) to find the best model. Save those hyperparameters to use as default values in the next part of the project.\n",
    "\n",
    "One last important tip if you're using the workspace to run your code: To avoid having your workspace disconnect during the long-running tasks in this notebook, please read in the earlier page in this lesson called Intro to\n",
    "GPU Workspaces about Keeping Your Session Active. You'll want to include code from the workspace_utils.py module.\n",
    "\n",
    "**Note for Workspace users:** If your network is over 1 GB when saved as a checkpoint, there might be issues with saving backups in your workspace. Typically this happens with wide dense layers after the convolutional layers. If your saved checkpoint is larger than 1 GB (you can open a terminal and check with `ls -lh`), you should reduce the size of your hidden layers and train again."
   ]
  },
  {
   "cell_type": "code",
   "execution_count": null,
   "metadata": {},
   "outputs": [],
   "source": [
    "# TODO: Build and train your network\n",
    "# Using VGG-16 because VGG-11 performed poorly\n",
    "\n",
    "model = models.vgg16(pretrained=True)\n",
    "model\n",
    "\n",
    "for parameter in model.parameters():\n",
    "    parameter.requires_grad = False\n",
    "    \n",
    "classifier = nn.Sequential(OrderedDict([\n",
    "                        ('fc1', nn.Linear(25088, 1024)),\n",
    "                        ('drop', nn.Dropout(p=0.5)),\n",
    "                        ('relu', nn.ReLU()),\n",
    "                        ('fc2', nn.Linear(1024, 102)),\n",
    "                        ('output', nn.LogSoftmax(dim=1))\n",
    "                        ]))\n",
    "\n",
    "model.classifier = classifier\n",
    "model"
   ]
  },
  {
   "cell_type": "code",
   "execution_count": null,
   "metadata": {},
   "outputs": [],
   "source": [
    "# Trains the classifier layers using backpropagation (getting the features from the pre-trained model)\n",
    "# Tracks lost and accuracy to single out the best hyperparameters\n",
    "\n",
    "criterion = nn.CrossEntropyLoss()\n",
    "optimizer = optim.SGD(model.classifier.parameters(), lr=0.01)\n",
    "\n",
    "epochs = 12\n",
    "steps = 0\n",
    "cuda = torch.cuda.is_available()\n",
    "\n",
    "if cuda:\n",
    "    model.cuda()\n",
    "else:\n",
    "    model.cpu()\n",
    "\n",
    "running_loss = 0\n",
    "accuracy = 0\n",
    "\n",
    "start = time.time()\n",
    "print('The training has started...')\n",
    "\n",
    "for e in range(epochs):\n",
    "    \n",
    "    train_mode = 0\n",
    "    valid_mode = 1\n",
    "    \n",
    "    for mode in [train_mode, valid_mode]:   \n",
    "        if mode == train_mode:\n",
    "            model.train()\n",
    "        else:\n",
    "            model.eval()\n",
    "            \n",
    "        pass_count = 0\n",
    "        \n",
    "        for data in data_loaders[mode]:\n",
    "            pass_count += 1\n",
    "            inputs, labels = data\n",
    "            if cuda == True:\n",
    "                inputs, labels = Variable(inputs.cuda()), Variable(labels.cuda())\n",
    "            else:\n",
    "                inputs, labels = Variable(inputs), Variable(labels)\n",
    "\n",
    "            optimizer.zero_grad()\n",
    "            # Forward\n",
    "            output = model.forward(inputs)\n",
    "            loss = criterion(output, labels)\n",
    "            # Backward\n",
    "            if mode == train_mode:\n",
    "                loss.backward()\n",
    "                optimizer.step()                \n",
    "\n",
    "            running_loss += loss.item()\n",
    "            ps = torch.exp(output).data\n",
    "            equality = (labels.data == ps.max(1)[1])\n",
    "            accuracy = equality.type_as(torch.cuda.FloatTensor()).mean()\n",
    "\n",
    "        if mode == train_mode:\n",
    "            print(\"\\nEpoch number: {}/{} \".format(e+1, epochs),\n",
    "                  \"\\nTraining Loss value: {:.4f}  \".format(running_loss/pass_count))\n",
    "        else:\n",
    "            print(\"Validation Loss value: {:.4f}  \".format(running_loss/pass_count),\n",
    "              \"Accuracy value: {:.4f}\".format(accuracy))\n",
    "\n",
    "        running_loss = 0\n",
    "\n",
    "time_elapsed = time.time() - start\n",
    "print(\"The training has ended.\")\n",
    "print(\"\\nTotal time elapsed: {:.0f}m {:.0f}s\".format(time_elapsed//60, time_elapsed % 60))"
   ]
  },
  {
   "cell_type": "markdown",
   "metadata": {},
   "source": [
    "## Testing your network\n",
    "\n",
    "It's good practice to test your trained network on test data, images the network has never seen either in training or validation. This will give you a good estimate for the model's performance on completely new images. Run the test images through the network and measure the accuracy, the same way you did validation. You should be able to reach around 70% accuracy on the test set if the model has been trained well."
   ]
  },
  {
   "cell_type": "code",
   "execution_count": null,
   "metadata": {},
   "outputs": [],
   "source": [
    "# TODO: Do validation on the test set\n",
    "\n",
    "model.eval()\n",
    "accuracy = 0\n",
    "\n",
    "print(\"The validation has started...\")\n",
    "start_time = time.time()\n",
    "\n",
    "cuda = torch.cuda.is_available()\n",
    "\n",
    "if cuda:\n",
    "    model.cuda()\n",
    "else:\n",
    "    model.cpu()\n",
    "\n",
    "pass_count = 0\n",
    "\n",
    "for data in data_loaders[2]:\n",
    "    pass_count += 1\n",
    "    images, labels = data\n",
    "    \n",
    "    if cuda == True:\n",
    "        images, labels = Variable(images.cuda()), Variable(labels.cuda())\n",
    "    else:\n",
    "        images, labels = Variable(images), Variable(labels)\n",
    "\n",
    "    output = model.forward(images)\n",
    "    ps = torch.exp(output).data\n",
    "    equality = (labels.data == ps.max(1)[1])\n",
    "    accuracy += equality.type_as(torch.FloatTensor()).mean()\n",
    "\n",
    "end_time = time.time()\n",
    "print('The validation has ended.')\n",
    "validation_time = end_time - start_time\n",
    "print('\\nTime elapsed for validation: {:.0f}m {:.0f}s'.format(validation_time / 60, validation_time % 60))\n",
    "\n",
    "print(\"\\nAccuracy Test value: {:.4f}\".format(accuracy/pass_count))"
   ]
  },
  {
   "cell_type": "markdown",
   "metadata": {},
   "source": [
    "## Save the checkpoint\n",
    "\n",
    "Now that your network is trained, save the model so you can load it later for making predictions. You probably want to save other things such as the mapping of classes to indices which you get from one of the image datasets: `image_datasets['train'].class_to_idx`. You can attach this to the model as an attribute which makes inference easier later on.\n",
    "\n",
    "```model.class_to_idx = image_datasets['train'].class_to_idx```\n",
    "\n",
    "Remember that you'll want to completely rebuild the model later so you can use it for inference. Make sure to include any information you need in the checkpoint. If you want to load the model and keep training, you'll want to save the number of epochs as well as the optimizer state, `optimizer.state_dict`. You'll likely want to use this trained model in the next part of the project, so best to save it now."
   ]
  },
  {
   "cell_type": "code",
   "execution_count": null,
   "metadata": {},
   "outputs": [],
   "source": [
    "# TODO: Save the checkpoint \n",
    "\n",
    "model.class_to_idx = train_data.class_to_idx\n",
    "\n",
    "checkpoint = {'arch': 'vgg16',\n",
    "              'input_size': 25088,\n",
    "              'output_size': 1024,\n",
    "              'learning_rate': 0.01,       \n",
    "              'batch_size': 64,\n",
    "              'classifier' : classifier,\n",
    "              'epochs': epochs,\n",
    "              'optimizer': optimizer.state_dict(),\n",
    "              'state_dict': model.state_dict(),\n",
    "              'class_to_idx': model.class_to_idx}\n",
    "\n",
    "torch.save(checkpoint, 'checkpoint.pth')"
   ]
  },
  {
   "cell_type": "markdown",
   "metadata": {},
   "source": [
    "## Loading the checkpoint\n",
    "\n",
    "At this point it's good to write a function that can load a checkpoint and rebuild the model. That way you can come back to this project and keep working on it without having to retrain the network."
   ]
  },
  {
   "cell_type": "code",
   "execution_count": null,
   "metadata": {},
   "outputs": [],
   "source": [
    "# TODO: Write a function that loads a checkpoint and rebuilds the model"
   ]
  },
  {
   "cell_type": "markdown",
   "metadata": {},
   "source": [
    "# Inference for classification\n",
    "\n",
    "Now you'll write a function to use a trained network for inference. That is, you'll pass an image into the network and predict the class of the flower in the image. Write a function called `predict` that takes an image and a model, then returns the top $K$ most likely classes along with the probabilities. It should look like \n",
    "\n",
    "```python\n",
    "probs, classes = predict(image_path, model)\n",
    "print(probs)\n",
    "print(classes)\n",
    "> [ 0.01558163  0.01541934  0.01452626  0.01443549  0.01407339]\n",
    "> ['70', '3', '45', '62', '55']\n",
    "```\n",
    "\n",
    "First you'll need to handle processing the input image such that it can be used in your network. \n",
    "\n",
    "## Image Preprocessing\n",
    "\n",
    "You'll want to use `PIL` to load the image ([documentation](https://pillow.readthedocs.io/en/latest/reference/Image.html)). It's best to write a function that preprocesses the image so it can be used as input for the model. This function should process the images in the same manner used for training. \n",
    "\n",
    "First, resize the images where the shortest side is 256 pixels, keeping the aspect ratio. This can be done with the [`thumbnail`](http://pillow.readthedocs.io/en/3.1.x/reference/Image.html#PIL.Image.Image.thumbnail) or [`resize`](http://pillow.readthedocs.io/en/3.1.x/reference/Image.html#PIL.Image.Image.thumbnail) methods. Then you'll need to crop out the center 224x224 portion of the image.\n",
    "\n",
    "Color channels of images are typically encoded as integers 0-255, but the model expected floats 0-1. You'll need to convert the values. It's easiest with a Numpy array, which you can get from a PIL image like so `np_image = np.array(pil_image)`.\n",
    "\n",
    "As before, the network expects the images to be normalized in a specific way. For the means, it's `[0.485, 0.456, 0.406]` and for the standard deviations `[0.229, 0.224, 0.225]`. You'll want to subtract the means from each color channel, then divide by the standard deviation. \n",
    "\n",
    "And finally, PyTorch expects the color channel to be the first dimension but it's the third dimension in the PIL image and Numpy array. You can reorder dimensions using [`ndarray.transpose`](https://docs.scipy.org/doc/numpy-1.13.0/reference/generated/numpy.ndarray.transpose.html). The color channel needs to be first and retain the order of the other two dimensions."
   ]
  },
  {
   "cell_type": "code",
   "execution_count": null,
   "metadata": {},
   "outputs": [],
   "source": [
    "def process_image(image):\n",
    "    ''' Scales, crops, and normalizes a PIL image for a PyTorch model,\n",
    "        returns an Numpy array\n",
    "    '''\n",
    "    \n",
    "    # TODO: Process a PIL image for use in a PyTorch model"
   ]
  },
  {
   "cell_type": "markdown",
   "metadata": {},
   "source": [
    "To check your work, the function below converts a PyTorch tensor and displays it in the notebook. If your `process_image` function works, running the output through this function should return the original image (except for the cropped out portions)."
   ]
  },
  {
   "cell_type": "code",
   "execution_count": null,
   "metadata": {},
   "outputs": [],
   "source": [
    "def imshow(image, ax=None, title=None):\n",
    "    \"\"\"Imshow for Tensor.\"\"\"\n",
    "    if ax is None:\n",
    "        fig, ax = plt.subplots()\n",
    "    \n",
    "    # PyTorch tensors assume the color channel is the first dimension\n",
    "    # but matplotlib assumes is the third dimension\n",
    "    image = image.numpy().transpose((1, 2, 0))\n",
    "    \n",
    "    # Undo preprocessing\n",
    "    mean = np.array([0.485, 0.456, 0.406])\n",
    "    std = np.array([0.229, 0.224, 0.225])\n",
    "    image = std * image + mean\n",
    "    \n",
    "    # Image needs to be clipped between 0 and 1 or it looks like noise when displayed\n",
    "    image = np.clip(image, 0, 1)\n",
    "    \n",
    "    ax.imshow(image)\n",
    "    \n",
    "    return ax"
   ]
  },
  {
   "cell_type": "markdown",
   "metadata": {},
   "source": [
    "## Class Prediction\n",
    "\n",
    "Once you can get images in the correct format, it's time to write a function for making predictions with your model. A common practice is to predict the top 5 or so (usually called top-$K$) most probable classes. You'll want to calculate the class probabilities then find the $K$ largest values.\n",
    "\n",
    "To get the top $K$ largest values in a tensor use [`x.topk(k)`](http://pytorch.org/docs/master/torch.html#torch.topk). This method returns both the highest `k` probabilities and the indices of those probabilities corresponding to the classes. You need to convert from these indices to the actual class labels using `class_to_idx` which hopefully you added to the model or from an `ImageFolder` you used to load the data ([see here](#Save-the-checkpoint)). Make sure to invert the dictionary so you get a mapping from index to class as well.\n",
    "\n",
    "Again, this method should take a path to an image and a model checkpoint, then return the probabilities and classes.\n",
    "\n",
    "```python\n",
    "probs, classes = predict(image_path, model)\n",
    "print(probs)\n",
    "print(classes)\n",
    "> [ 0.01558163  0.01541934  0.01452626  0.01443549  0.01407339]\n",
    "> ['70', '3', '45', '62', '55']\n",
    "```"
   ]
  },
  {
   "cell_type": "code",
   "execution_count": null,
   "metadata": {},
   "outputs": [],
   "source": [
    "def predict(image_path, model, topk=5):\n",
    "    ''' Predict the class (or classes) of an image using a trained deep learning model.\n",
    "    '''\n",
    "    \n",
    "    # TODO: Implement the code to predict the class from an image file"
   ]
  },
  {
   "cell_type": "markdown",
   "metadata": {},
   "source": [
    "## Sanity Checking\n",
    "\n",
    "Now that you can use a trained model for predictions, check to make sure it makes sense. Even if the testing accuracy is high, it's always good to check that there aren't obvious bugs. Use `matplotlib` to plot the probabilities for the top 5 classes as a bar graph, along with the input image. It should look like this:\n",
    "\n",
    "<img src='assets/inference_example.png' width=300px>\n",
    "\n",
    "You can convert from the class integer encoding to actual flower names with the `cat_to_name.json` file (should have been loaded earlier in the notebook). To show a PyTorch tensor as an image, use the `imshow` function defined above."
   ]
  },
  {
   "cell_type": "code",
   "execution_count": null,
   "metadata": {},
   "outputs": [],
   "source": [
    "# TODO: Display an image along with the top 5 classes"
   ]
  }
 ],
 "metadata": {
  "interpreter": {
   "hash": "d8e3ec04bce1fa1f8350f153d4f7d78f7b459f192cec99b29d40ae70521e5ffe"
  },
  "kernelspec": {
   "display_name": "Python 3.10.6 ('udacity_env')",
   "language": "python",
   "name": "python3"
  },
  "language_info": {
   "codemirror_mode": {
    "name": "ipython",
    "version": 3
   },
   "file_extension": ".py",
   "mimetype": "text/x-python",
   "name": "python",
   "nbconvert_exporter": "python",
   "pygments_lexer": "ipython3",
   "version": "3.10.6"
  }
 },
 "nbformat": 4,
 "nbformat_minor": 2
}
